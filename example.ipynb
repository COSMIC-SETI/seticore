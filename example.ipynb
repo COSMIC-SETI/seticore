{
 "cells": [
  {
   "cell_type": "code",
   "execution_count": null,
   "id": "5d1c4991",
   "metadata": {},
   "outputs": [],
   "source": [
    "%matplotlib inline\n",
    "%load_ext autoreload\n",
    "%autoreload 2"
   ]
  },
  {
   "cell_type": "code",
   "execution_count": null,
   "id": "4a528083",
   "metadata": {},
   "outputs": [],
   "source": [
    "import viewer\n",
    "import numpy as np"
   ]
  },
  {
   "cell_type": "code",
   "execution_count": null,
   "id": "98ead6ae",
   "metadata": {
    "scrolled": false
   },
   "outputs": [],
   "source": [
    "# Show one hit from the hits file\n",
    "hits = list(viewer.read_hits(\"data/guppi_59806_84779_003380_J1939-6342_0001.hits\")) \n",
    "hit = hits[-3]\n",
    "viewer.show_hit(hit)"
   ]
  },
  {
   "cell_type": "code",
   "execution_count": null,
   "id": "a9902cf7",
   "metadata": {},
   "outputs": [],
   "source": [
    "# Read a stamp from a stamp file\n",
    "# This file is too large to keep in the repo; you'll have to get your own stamp file.\n",
    "stamp = viewer.Stamp(\"data/20220816.stamp\")"
   ]
  },
  {
   "cell_type": "code",
   "execution_count": null,
   "id": "9ba40357",
   "metadata": {},
   "outputs": [],
   "source": [
    "r = stamp.real_array()"
   ]
  },
  {
   "cell_type": "code",
   "execution_count": null,
   "id": "62961bc5",
   "metadata": {},
   "outputs": [],
   "source": [
    "r.shape"
   ]
  },
  {
   "cell_type": "code",
   "execution_count": null,
   "id": "7bebebad",
   "metadata": {},
   "outputs": [],
   "source": [
    "# Calculate the incoherent beam\n",
    "inco = np.square(r).sum(axis=(2, 3, 4))"
   ]
  },
  {
   "cell_type": "code",
   "execution_count": null,
   "id": "d575f0b4",
   "metadata": {
    "scrolled": true
   },
   "outputs": [],
   "source": [
    "viewer.show_array(inco)"
   ]
  },
  {
   "cell_type": "code",
   "execution_count": null,
   "id": "105fa4d1",
   "metadata": {},
   "outputs": [],
   "source": [
    "ants = np.square(r).sum(axis=(2, 4))\n",
    "ants.shape"
   ]
  },
  {
   "cell_type": "code",
   "execution_count": null,
   "id": "45c98c61",
   "metadata": {
    "scrolled": true
   },
   "outputs": [],
   "source": [
    "# Show the individual antenna data\n",
    "for i in range(59):\n",
    "    print(\"antenna\", i)\n",
    "    viewer.show_array(ants[:, :, i])"
   ]
  },
  {
   "cell_type": "code",
   "execution_count": null,
   "id": "7b448c5b",
   "metadata": {},
   "outputs": [],
   "source": []
  }
 ],
 "metadata": {
  "kernelspec": {
   "display_name": "Python 3 (ipykernel)",
   "language": "python",
   "name": "python3"
  },
  "language_info": {
   "codemirror_mode": {
    "name": "ipython",
    "version": 3
   },
   "file_extension": ".py",
   "mimetype": "text/x-python",
   "name": "python",
   "nbconvert_exporter": "python",
   "pygments_lexer": "ipython3",
   "version": "3.9.12"
  }
 },
 "nbformat": 4,
 "nbformat_minor": 5
}
